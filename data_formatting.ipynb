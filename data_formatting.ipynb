{
 "cells": [
  {
   "cell_type": "markdown",
   "id": "a8d1a9b3-62e2-4ac0-9a44-c0797c4d461c",
   "metadata": {},
   "source": [
    "# Diabetes Machine Learning Group Project\n",
    "\n",
    "Data Tables from 2017-18 from NHANES\n",
    "- Diabetes (DIQ_J) https://wwwn.cdc.gov/Nchs/Nhanes/2017-2018/DIQ_J.htm\n",
    "- Health Insurance (HIQ_J) https://wwwn.cdc.gov/Nchs/Nhanes/2017-2018/HIQ_J.htm\n",
    "- Food Security (FSQ_J) https://wwwn.cdc.gov/Nchs/Nhanes/2017-2018/FSQ_J.htm\n",
    "- Income (INQ_J) https://wwwn.cdc.gov/Nchs/Nhanes/2017-2018/INQ_J.htm\n",
    "- Blood Pressure (BPX_J) https://wwwn.cdc.gov/Nchs/Nhanes/2017-2018/BPX_J.htm\n",
    "- Body Measures (BMX_J) https://wwwn.cdc.gov/Nchs/Nhanes/2017-2018/BMX_J.htm\n",
    "- Alcohol Use (ALQ_J) https://wwwn.cdc.gov/Nchs/Nhanes/2017-2018/ALQ_J.htm\n",
    "\n",
    "8,897 Original Respondents\n",
    "\n",
    "STEPS\n",
    "1. Format and subset for columns and respondents of interest\n",
    "2. Scale and normalize values\n",
    "3. Run Principal Component Analysis (PCA)\n",
    "4. Examine which components correlate with which variables\n",
    "5. Generate elbow plot to identify ideal number of clusters\n",
    "6. Run K-means clustering using elbow plot deemed number of PCs\n",
    "7. Identify which variables are most associated with clustering "
   ]
  },
  {
   "cell_type": "markdown",
   "id": "df04702a-4853-4989-bc8a-afbfde92e393",
   "metadata": {},
   "source": [
    "## Merging"
   ]
  },
  {
   "cell_type": "code",
   "execution_count": 108,
   "id": "6e698333-d914-4689-bbb0-4aeac01134e8",
   "metadata": {},
   "outputs": [],
   "source": [
    "# Load packages\n",
    "import pandas as pd"
   ]
  },
  {
   "cell_type": "code",
   "execution_count": 109,
   "id": "a0ef97ab-f5db-4a5f-a19e-e26b6ec9b43d",
   "metadata": {},
   "outputs": [],
   "source": [
    "# Load in tables\n",
    "diq = pd.read_csv(\"./resources/DIQ_J_2017-18.csv\", index_col = 0)\n",
    "fsq = pd.read_csv(\"./resources/FSQ_J_2017-18.csv\", index_col = 0)\n",
    "inq = pd.read_csv(\"./resources/INQ_J_2017-18.csv\", index_col = 0)\n",
    "hiq = pd.read_csv(\"./resources/HIQ_J_2017-18.csv\", index_col = 0)\n",
    "bpx = pd.read_csv(\"./resources/BPX_J_2017-18.csv\", index_col = 0)\n",
    "bmx = pd.read_csv(\"./resources/BMX_J_2017-18.csv\", index_col = 0)\n",
    "alq = pd.read_csv(\"./resources/ALQ_J_2017-18.csv\", index_col = 0)"
   ]
  },
  {
   "cell_type": "markdown",
   "id": "3315bc29-fa1f-48fe-a1c7-f96746b7eef4",
   "metadata": {},
   "source": [
    "### Format health insurance"
   ]
  },
  {
   "cell_type": "code",
   "execution_count": 110,
   "id": "e37f5477-41d7-47b1-9dd9-11f503bc9f32",
   "metadata": {},
   "outputs": [],
   "source": [
    "# Rename column to intuitive name\n",
    "hiq = hiq.rename({\"HIQ011\": \"health_insurance\"}, axis = 1)\n",
    "\n",
    "# Subset columns of interest\n",
    "hiq = hiq[[\"SEQN\", \"health_insurance\"]]\n",
    "\n",
    "# Subset for yes and no\n",
    "hiq = hiq.loc[hiq['health_insurance'].isin([1,2])]"
   ]
  },
  {
   "cell_type": "markdown",
   "id": "7d0243a5-8061-4f1e-929e-0d945162a20e",
   "metadata": {},
   "source": [
    "### Format body measures"
   ]
  },
  {
   "cell_type": "code",
   "execution_count": 111,
   "id": "69c2d045-bc29-492a-82ed-dcefbe2f4bb8",
   "metadata": {},
   "outputs": [],
   "source": [
    "# Rename column to intuitive name\n",
    "bmx = bmx.rename({\"BMXBMI\": \"bmi\", \"BMXWT\": \"weight\"}, axis = 1)\n",
    "\n",
    "# Subset columns of interest\n",
    "bmx = bmx[[\"SEQN\", \"bmi\", \"weight\"]]\n",
    "\n",
    "# Subset for non NAs\n",
    "bmx = bmx.dropna(axis = 0)"
   ]
  },
  {
   "cell_type": "markdown",
   "id": "25011c25-b14d-4f64-b556-34572bb9f30c",
   "metadata": {},
   "source": [
    "### Format blood pressure"
   ]
  },
  {
   "cell_type": "code",
   "execution_count": 112,
   "id": "7ab324db-84f4-4e5f-b812-4142e78abab8",
   "metadata": {},
   "outputs": [],
   "source": [
    "# Rename column to intuitive name\n",
    "bpx = bpx.rename({\"BPXPULS\": \"pulse\"}, axis = 1)\n",
    "\n",
    "# Subset columns of interest\n",
    "bpx = bpx[[\"SEQN\", \"pulse\"]]\n",
    "\n",
    "# Subset for yes and no\n",
    "bpx = bpx.loc[bpx['pulse'].isin([1,2])]"
   ]
  },
  {
   "cell_type": "markdown",
   "id": "42e7c94a-3217-4e86-ad01-2a8e534fee39",
   "metadata": {},
   "source": [
    "### Format income"
   ]
  },
  {
   "cell_type": "code",
   "execution_count": 113,
   "id": "a29389df-edf6-486e-be14-bde08cf4c24b",
   "metadata": {},
   "outputs": [],
   "source": [
    "# Rename column to intuitive name\n",
    "inq = inq.rename({\"IND235\": \"monthly_income\", \"INQ300\": \"family_savings\",\n",
    "                  \"INQ320\": \"grocery_transport\"}, axis = 1)\n",
    "\n",
    "# Subset columns of interest\n",
    "inq = inq[[\"SEQN\", \"monthly_income\", \"family_savings\", \"grocery_transport\"]]\n",
    "\n",
    "# Subset for yes and no\n",
    "inq = inq.loc[inq['family_savings'].isin([1,2])]\n",
    "inq = inq.loc[inq['grocery_transport'].isin([1,2,3,4,5,6,7,8,9])]\n",
    "inq = inq.loc[inq['monthly_income'].isin([1,2,3,4,5,6,7,8,9,10,11,12])]"
   ]
  },
  {
   "cell_type": "markdown",
   "id": "c05c2a72-3ff7-4e1b-a874-a1df4a24a03b",
   "metadata": {},
   "source": [
    "### Format food security"
   ]
  },
  {
   "cell_type": "code",
   "execution_count": 114,
   "id": "2d8e053d-07f8-4c7f-bf09-0b2f6a385f7f",
   "metadata": {},
   "outputs": [],
   "source": [
    "# Rename column to intuitive name\n",
    "fsq = fsq.rename({\"FSD032A\": \"worry_food\", \"FSD032B\": \"food_not_last\",\n",
    "                  \"FSD032C\": \"balanced_meals\", \"FSDHH\": \"food_security\",\n",
    "                  \"FSD151\": \"emergency_food\", \"FSQ165\": \"food_stamp\",}, axis = 1)\n",
    "\n",
    "# Subset columns of interest\n",
    "fsq = fsq[[\"SEQN\", \"worry_food\", \"food_not_last\", \"balanced_meals\",\n",
    "           \"food_security\", \"emergency_food\", \"food_stamp\"]]\n",
    "\n",
    "# Subset for yes and no\n",
    "fsq = fsq.loc[fsq['worry_food'].isin([1,2,3])]\n",
    "fsq = fsq.loc[fsq['food_not_last'].isin([1,2,3])]\n",
    "fsq = fsq.loc[fsq['balanced_meals'].isin([1,2,3])]\n",
    "fsq = fsq.loc[fsq['food_security'].isin([1,2,3,4])]\n",
    "fsq = fsq.loc[fsq['emergency_food'].isin([1,2])]\n",
    "fsq = fsq.loc[fsq['food_stamp'].isin([1,2])]"
   ]
  },
  {
   "cell_type": "markdown",
   "id": "054a9554-d5de-4567-a102-4647df0702f0",
   "metadata": {},
   "source": [
    "### Format diabetes"
   ]
  },
  {
   "cell_type": "code",
   "execution_count": 115,
   "id": "374f43b5-5194-4665-be41-1f0f16b8b357",
   "metadata": {},
   "outputs": [],
   "source": [
    "# Rename column to intuitive name\n",
    "diq = diq.rename({\"DIQ010\": \"diabetes\", \"DIQ050\": \"insulin\"}, axis = 1)\n",
    "\n",
    "# Subset columns of interest\n",
    "diq = diq[[\"SEQN\", \"diabetes\", \"insulin\"]]\n",
    "\n",
    "# Subset for yes and no\n",
    "diq = diq.loc[diq['diabetes'].isin([1,2,3])]\n",
    "diq = diq.loc[diq['insulin'].isin([1,2])]"
   ]
  },
  {
   "cell_type": "code",
   "execution_count": 116,
   "id": "7dba5ba2-bbed-4f55-9ee3-053727f89c23",
   "metadata": {},
   "outputs": [
    {
     "data": {
      "text/plain": [
       "(6204, 16)"
      ]
     },
     "execution_count": 116,
     "metadata": {},
     "output_type": "execute_result"
    }
   ],
   "source": [
    "# Generate merged df of everything\n",
    "merged = pd.merge(diq, fsq, on = \"SEQN\")\n",
    "merged = pd.merge(merged, inq, on = \"SEQN\")\n",
    "merged = pd.merge(merged, hiq, on = \"SEQN\")\n",
    "merged = pd.merge(merged, bpx, on = \"SEQN\")\n",
    "merged = pd.merge(merged, bmx, on = \"SEQN\")"
   ]
  },
  {
   "cell_type": "code",
   "execution_count": 117,
   "id": "49d2b8b9-9f27-4b7b-8618-9f928d4d3d93",
   "metadata": {},
   "outputs": [],
   "source": [
    "# Export merged dataframe\n",
    "merged.to_csv(\"./resources/merged.csv\")"
   ]
  }
 ],
 "metadata": {
  "kernelspec": {
   "display_name": "Python 3 (ipykernel)",
   "language": "python",
   "name": "python3"
  },
  "language_info": {
   "codemirror_mode": {
    "name": "ipython",
    "version": 3
   },
   "file_extension": ".py",
   "mimetype": "text/x-python",
   "name": "python",
   "nbconvert_exporter": "python",
   "pygments_lexer": "ipython3",
   "version": "3.9.7"
  }
 },
 "nbformat": 4,
 "nbformat_minor": 5
}
