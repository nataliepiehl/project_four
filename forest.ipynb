{
 "cells": [
  {
   "cell_type": "code",
   "execution_count": 45,
   "id": "2870897f",
   "metadata": {},
   "outputs": [
    {
     "data": {
      "text/html": [
       "<div>\n",
       "<style scoped>\n",
       "    .dataframe tbody tr th:only-of-type {\n",
       "        vertical-align: middle;\n",
       "    }\n",
       "\n",
       "    .dataframe tbody tr th {\n",
       "        vertical-align: top;\n",
       "    }\n",
       "\n",
       "    .dataframe thead th {\n",
       "        text-align: right;\n",
       "    }\n",
       "</style>\n",
       "<table border=\"1\" class=\"dataframe\">\n",
       "  <thead>\n",
       "    <tr style=\"text-align: right;\">\n",
       "      <th></th>\n",
       "      <th>Unnamed: 0</th>\n",
       "      <th>SEQN</th>\n",
       "      <th>diabetes</th>\n",
       "      <th>insulin</th>\n",
       "      <th>worry_food</th>\n",
       "      <th>food_not_last</th>\n",
       "      <th>balanced_meals</th>\n",
       "      <th>food_security</th>\n",
       "      <th>emergency_food</th>\n",
       "      <th>food_stamp</th>\n",
       "      <th>...</th>\n",
       "      <th>mod_work_activity</th>\n",
       "      <th>vig_work_activity</th>\n",
       "      <th>walk_bicycle</th>\n",
       "      <th>vig_rec_activity</th>\n",
       "      <th>mod_rec_activity</th>\n",
       "      <th>height_in</th>\n",
       "      <th>10lb_losses</th>\n",
       "      <th>diet_health</th>\n",
       "      <th>week_meals_not_home</th>\n",
       "      <th>month_frozen_food</th>\n",
       "    </tr>\n",
       "  </thead>\n",
       "  <tbody>\n",
       "    <tr>\n",
       "      <th>0</th>\n",
       "      <td>0</td>\n",
       "      <td>93705.0</td>\n",
       "      <td>2</td>\n",
       "      <td>2</td>\n",
       "      <td>3.0</td>\n",
       "      <td>3.0</td>\n",
       "      <td>3.0</td>\n",
       "      <td>1.0</td>\n",
       "      <td>2.0</td>\n",
       "      <td>2.0</td>\n",
       "      <td>...</td>\n",
       "      <td>2</td>\n",
       "      <td>2</td>\n",
       "      <td>2</td>\n",
       "      <td>2</td>\n",
       "      <td>1</td>\n",
       "      <td>63.0</td>\n",
       "      <td>4</td>\n",
       "      <td>3.0</td>\n",
       "      <td>5.0</td>\n",
       "      <td>0.0</td>\n",
       "    </tr>\n",
       "    <tr>\n",
       "      <th>1</th>\n",
       "      <td>1</td>\n",
       "      <td>93711.0</td>\n",
       "      <td>2</td>\n",
       "      <td>2</td>\n",
       "      <td>3.0</td>\n",
       "      <td>3.0</td>\n",
       "      <td>3.0</td>\n",
       "      <td>1.0</td>\n",
       "      <td>2.0</td>\n",
       "      <td>2.0</td>\n",
       "      <td>...</td>\n",
       "      <td>2</td>\n",
       "      <td>2</td>\n",
       "      <td>1</td>\n",
       "      <td>1</td>\n",
       "      <td>1</td>\n",
       "      <td>69.0</td>\n",
       "      <td>5</td>\n",
       "      <td>2.0</td>\n",
       "      <td>4.0</td>\n",
       "      <td>0.0</td>\n",
       "    </tr>\n",
       "    <tr>\n",
       "      <th>2</th>\n",
       "      <td>2</td>\n",
       "      <td>93712.0</td>\n",
       "      <td>2</td>\n",
       "      <td>2</td>\n",
       "      <td>2.0</td>\n",
       "      <td>2.0</td>\n",
       "      <td>2.0</td>\n",
       "      <td>3.0</td>\n",
       "      <td>2.0</td>\n",
       "      <td>1.0</td>\n",
       "      <td>...</td>\n",
       "      <td>1</td>\n",
       "      <td>1</td>\n",
       "      <td>2</td>\n",
       "      <td>1</td>\n",
       "      <td>1</td>\n",
       "      <td>68.0</td>\n",
       "      <td>5</td>\n",
       "      <td>4.0</td>\n",
       "      <td>12.0</td>\n",
       "      <td>0.0</td>\n",
       "    </tr>\n",
       "    <tr>\n",
       "      <th>3</th>\n",
       "      <td>3</td>\n",
       "      <td>93713.0</td>\n",
       "      <td>2</td>\n",
       "      <td>2</td>\n",
       "      <td>3.0</td>\n",
       "      <td>3.0</td>\n",
       "      <td>3.0</td>\n",
       "      <td>1.0</td>\n",
       "      <td>2.0</td>\n",
       "      <td>2.0</td>\n",
       "      <td>...</td>\n",
       "      <td>2</td>\n",
       "      <td>2</td>\n",
       "      <td>1</td>\n",
       "      <td>2</td>\n",
       "      <td>1</td>\n",
       "      <td>70.0</td>\n",
       "      <td>5</td>\n",
       "      <td>4.0</td>\n",
       "      <td>0.0</td>\n",
       "      <td>3.0</td>\n",
       "    </tr>\n",
       "    <tr>\n",
       "      <th>4</th>\n",
       "      <td>4</td>\n",
       "      <td>93714.0</td>\n",
       "      <td>1</td>\n",
       "      <td>1</td>\n",
       "      <td>3.0</td>\n",
       "      <td>3.0</td>\n",
       "      <td>3.0</td>\n",
       "      <td>1.0</td>\n",
       "      <td>1.0</td>\n",
       "      <td>2.0</td>\n",
       "      <td>...</td>\n",
       "      <td>2</td>\n",
       "      <td>2</td>\n",
       "      <td>2</td>\n",
       "      <td>2</td>\n",
       "      <td>2</td>\n",
       "      <td>60.0</td>\n",
       "      <td>4</td>\n",
       "      <td>4.0</td>\n",
       "      <td>5.0</td>\n",
       "      <td>8.0</td>\n",
       "    </tr>\n",
       "  </tbody>\n",
       "</table>\n",
       "<p>5 rows × 30 columns</p>\n",
       "</div>"
      ],
      "text/plain": [
       "   Unnamed: 0     SEQN  diabetes  insulin  worry_food  food_not_last  \\\n",
       "0           0  93705.0         2        2         3.0            3.0   \n",
       "1           1  93711.0         2        2         3.0            3.0   \n",
       "2           2  93712.0         2        2         2.0            2.0   \n",
       "3           3  93713.0         2        2         3.0            3.0   \n",
       "4           4  93714.0         1        1         3.0            3.0   \n",
       "\n",
       "   balanced_meals  food_security  emergency_food  food_stamp  ...  \\\n",
       "0             3.0            1.0             2.0         2.0  ...   \n",
       "1             3.0            1.0             2.0         2.0  ...   \n",
       "2             2.0            3.0             2.0         1.0  ...   \n",
       "3             3.0            1.0             2.0         2.0  ...   \n",
       "4             3.0            1.0             1.0         2.0  ...   \n",
       "\n",
       "   mod_work_activity  vig_work_activity  walk_bicycle  vig_rec_activity  \\\n",
       "0                  2                  2             2                 2   \n",
       "1                  2                  2             1                 1   \n",
       "2                  1                  1             2                 1   \n",
       "3                  2                  2             1                 2   \n",
       "4                  2                  2             2                 2   \n",
       "\n",
       "   mod_rec_activity  height_in  10lb_losses  diet_health  week_meals_not_home  \\\n",
       "0                 1       63.0            4          3.0                  5.0   \n",
       "1                 1       69.0            5          2.0                  4.0   \n",
       "2                 1       68.0            5          4.0                 12.0   \n",
       "3                 1       70.0            5          4.0                  0.0   \n",
       "4                 2       60.0            4          4.0                  5.0   \n",
       "\n",
       "   month_frozen_food  \n",
       "0                0.0  \n",
       "1                0.0  \n",
       "2                0.0  \n",
       "3                3.0  \n",
       "4                8.0  \n",
       "\n",
       "[5 rows x 30 columns]"
      ]
     },
     "execution_count": 45,
     "metadata": {},
     "output_type": "execute_result"
    }
   ],
   "source": [
    "# Import our dependencies\n",
    "from sklearn.model_selection import train_test_split\n",
    "from sklearn.preprocessing import StandardScaler\n",
    "import pandas as pd\n",
    "import tensorflow as tf\n",
    "\n",
    "#  Import and read the charity_data.csv.\n",
    "import pandas as pd \n",
    "unsc_diabetes_df = pd.read_csv(\"Resources/merged.csv\")\n",
    "unsc_diabetes_df.head()"
   ]
  },
  {
   "cell_type": "code",
   "execution_count": 46,
   "id": "eb700ba2",
   "metadata": {},
   "outputs": [
    {
     "data": {
      "text/plain": [
       "Unnamed: 0               3441\n",
       "SEQN                     3441\n",
       "diabetes                    3\n",
       "insulin                     2\n",
       "worry_food                  3\n",
       "food_not_last               3\n",
       "balanced_meals              3\n",
       "food_security               4\n",
       "emergency_food              2\n",
       "food_stamp                  2\n",
       "monthly_income             12\n",
       "family_savings              2\n",
       "grocery_transport           9\n",
       "health_insurance            2\n",
       "pulse                       2\n",
       "bmi                       383\n",
       "weight                    916\n",
       "12mo_alcohol               11\n",
       "many_drinks_regularly       2\n",
       "minutes_sedentary          41\n",
       "mod_work_activity           2\n",
       "vig_work_activity           2\n",
       "walk_bicycle                2\n",
       "vig_rec_activity            2\n",
       "mod_rec_activity            2\n",
       "height_in                  31\n",
       "10lb_losses                 5\n",
       "diet_health                 5\n",
       "week_meals_not_home        22\n",
       "month_frozen_food          30\n",
       "dtype: int64"
      ]
     },
     "execution_count": 46,
     "metadata": {},
     "output_type": "execute_result"
    }
   ],
   "source": [
    "unsc_diabetes_df.nunique()"
   ]
  },
  {
   "cell_type": "code",
   "execution_count": 47,
   "id": "49466e4a",
   "metadata": {},
   "outputs": [
    {
     "data": {
      "text/plain": [
       "(3441, 30)"
      ]
     },
     "execution_count": 47,
     "metadata": {},
     "output_type": "execute_result"
    }
   ],
   "source": [
    "unsc_diabetes_df.shape"
   ]
  },
  {
   "cell_type": "code",
   "execution_count": 48,
   "id": "2d3a5377",
   "metadata": {},
   "outputs": [],
   "source": [
    "X = unsc_diabetes_df.drop(['Unnamed: 0','SEQN','diabetes'],axis=1) # feature matrix\n",
    "y=unsc_diabetes_df['diabetes'] # target variable (variable that we want to predict)"
   ]
  },
  {
   "cell_type": "code",
   "execution_count": 49,
   "id": "238152b2",
   "metadata": {},
   "outputs": [
    {
     "data": {
      "text/plain": [
       "insulin                  0\n",
       "worry_food               0\n",
       "food_not_last            0\n",
       "balanced_meals           0\n",
       "food_security            0\n",
       "emergency_food           0\n",
       "food_stamp               0\n",
       "monthly_income           0\n",
       "family_savings           0\n",
       "grocery_transport        0\n",
       "health_insurance         0\n",
       "pulse                    0\n",
       "bmi                      0\n",
       "weight                   0\n",
       "12mo_alcohol             0\n",
       "many_drinks_regularly    0\n",
       "minutes_sedentary        0\n",
       "mod_work_activity        0\n",
       "vig_work_activity        0\n",
       "walk_bicycle             0\n",
       "vig_rec_activity         0\n",
       "mod_rec_activity         0\n",
       "height_in                0\n",
       "10lb_losses              0\n",
       "diet_health              0\n",
       "week_meals_not_home      0\n",
       "month_frozen_food        0\n",
       "dtype: int64"
      ]
     },
     "execution_count": 49,
     "metadata": {},
     "output_type": "execute_result"
    }
   ],
   "source": [
    "X.isnull().sum()"
   ]
  },
  {
   "cell_type": "code",
   "execution_count": 50,
   "id": "552637f5",
   "metadata": {},
   "outputs": [
    {
     "name": "stdout",
     "output_type": "stream",
     "text": [
      "<class 'pandas.core.frame.DataFrame'>\n",
      "RangeIndex: 3441 entries, 0 to 3440\n",
      "Data columns (total 27 columns):\n",
      " #   Column                 Non-Null Count  Dtype  \n",
      "---  ------                 --------------  -----  \n",
      " 0   insulin                3441 non-null   int64  \n",
      " 1   worry_food             3441 non-null   float64\n",
      " 2   food_not_last          3441 non-null   float64\n",
      " 3   balanced_meals         3441 non-null   float64\n",
      " 4   food_security          3441 non-null   float64\n",
      " 5   emergency_food         3441 non-null   float64\n",
      " 6   food_stamp             3441 non-null   float64\n",
      " 7   monthly_income         3441 non-null   float64\n",
      " 8   family_savings         3441 non-null   float64\n",
      " 9   grocery_transport      3441 non-null   float64\n",
      " 10  health_insurance       3441 non-null   int64  \n",
      " 11  pulse                  3441 non-null   float64\n",
      " 12  bmi                    3441 non-null   float64\n",
      " 13  weight                 3441 non-null   float64\n",
      " 14  12mo_alcohol           3441 non-null   float64\n",
      " 15  many_drinks_regularly  3441 non-null   float64\n",
      " 16  minutes_sedentary      3441 non-null   float64\n",
      " 17  mod_work_activity      3441 non-null   int64  \n",
      " 18  vig_work_activity      3441 non-null   int64  \n",
      " 19  walk_bicycle           3441 non-null   int64  \n",
      " 20  vig_rec_activity       3441 non-null   int64  \n",
      " 21  mod_rec_activity       3441 non-null   int64  \n",
      " 22  height_in              3441 non-null   float64\n",
      " 23  10lb_losses            3441 non-null   int64  \n",
      " 24  diet_health            3441 non-null   float64\n",
      " 25  week_meals_not_home    3441 non-null   float64\n",
      " 26  month_frozen_food      3441 non-null   float64\n",
      "dtypes: float64(19), int64(8)\n",
      "memory usage: 726.0 KB\n"
     ]
    }
   ],
   "source": [
    "X.info()"
   ]
  },
  {
   "cell_type": "code",
   "execution_count": 51,
   "id": "1f76b1aa",
   "metadata": {},
   "outputs": [],
   "source": [
    "from sklearn.model_selection import train_test_split"
   ]
  },
  {
   "cell_type": "code",
   "execution_count": 52,
   "id": "3a5766f2",
   "metadata": {},
   "outputs": [],
   "source": [
    "X_train,X_test,y_train,y_test=train_test_split(X,y,test_size=0.2,random_state=0)"
   ]
  },
  {
   "cell_type": "code",
   "execution_count": 53,
   "id": "80bf12f2",
   "metadata": {},
   "outputs": [
    {
     "data": {
      "text/plain": [
       "2    2832\n",
       "1     507\n",
       "3     102\n",
       "Name: diabetes, dtype: int64"
      ]
     },
     "execution_count": 53,
     "metadata": {},
     "output_type": "execute_result"
    }
   ],
   "source": [
    "y.value_counts()"
   ]
  },
  {
   "cell_type": "code",
   "execution_count": 54,
   "id": "b73dba22",
   "metadata": {},
   "outputs": [],
   "source": [
    "from sklearn.ensemble import RandomForestClassifier"
   ]
  },
  {
   "cell_type": "code",
   "execution_count": 55,
   "id": "65fa93a6",
   "metadata": {},
   "outputs": [
    {
     "data": {
      "text/plain": [
       "RandomForestClassifier(random_state=0)"
      ]
     },
     "execution_count": 55,
     "metadata": {},
     "output_type": "execute_result"
    }
   ],
   "source": [
    "model=RandomForestClassifier(random_state=0) ## initialize model\n",
    "model.fit(X_train,y_train) ## train model"
   ]
  },
  {
   "cell_type": "code",
   "execution_count": 56,
   "id": "0d93377c",
   "metadata": {},
   "outputs": [
    {
     "name": "stdout",
     "output_type": "stream",
     "text": [
      "Testing Data Score: 0.8621190130624092\n"
     ]
    }
   ],
   "source": [
    "print(f\"Testing Data Score: {model.score(X_test, y_test)}\")"
   ]
  },
  {
   "cell_type": "code",
   "execution_count": 57,
   "id": "fbdb7ddf",
   "metadata": {},
   "outputs": [
    {
     "data": {
      "text/plain": [
       "array([0.13782788, 0.01386537, 0.01419995, 0.01337258, 0.01899675,\n",
       "       0.00791145, 0.01613806, 0.05732819, 0.01467509, 0.02052496,\n",
       "       0.00852223, 0.00697849, 0.10706851, 0.1044914 , 0.06095494,\n",
       "       0.01251542, 0.07019137, 0.01460872, 0.01206329, 0.01350741,\n",
       "       0.01679658, 0.01560683, 0.06940374, 0.03566985, 0.0381718 ,\n",
       "       0.05863394, 0.03997519])"
      ]
     },
     "execution_count": 57,
     "metadata": {},
     "output_type": "execute_result"
    }
   ],
   "source": [
    "model.feature_importances_"
   ]
  },
  {
   "cell_type": "code",
   "execution_count": 58,
   "id": "e1bf721d",
   "metadata": {},
   "outputs": [
    {
     "data": {
      "text/plain": [
       "Index(['insulin', 'bmi', 'weight', 'minutes_sedentary', 'height_in',\n",
       "       '12mo_alcohol', 'week_meals_not_home', 'monthly_income',\n",
       "       'month_frozen_food', 'diet_health', '10lb_losses', 'grocery_transport',\n",
       "       'food_security', 'vig_rec_activity', 'food_stamp', 'mod_rec_activity',\n",
       "       'family_savings', 'mod_work_activity', 'food_not_last', 'worry_food',\n",
       "       'walk_bicycle', 'balanced_meals', 'many_drinks_regularly',\n",
       "       'vig_work_activity', 'health_insurance', 'emergency_food', 'pulse'],\n",
       "      dtype='object')"
      ]
     },
     "execution_count": 58,
     "metadata": {},
     "output_type": "execute_result"
    }
   ],
   "source": [
    "sorted_index=model.feature_importances_.argsort()[::-1]\n",
    "\n",
    "\n",
    "X_train.columns[sorted_index]"
   ]
  },
  {
   "cell_type": "markdown",
   "id": "e460d869",
   "metadata": {},
   "source": [
    "## Scaled Dataset"
   ]
  },
  {
   "cell_type": "code",
   "execution_count": 59,
   "id": "21626595",
   "metadata": {},
   "outputs": [],
   "source": [
    "from sklearn.preprocessing import StandardScaler, MinMaxScaler, LabelEncoder"
   ]
  },
  {
   "cell_type": "code",
   "execution_count": 60,
   "id": "3c8fb065",
   "metadata": {},
   "outputs": [],
   "source": [
    "scaler=StandardScaler()\n",
    "X_scaled=pd.DataFrame(scaler.fit_transform(X),columns=X.columns)"
   ]
  },
  {
   "cell_type": "code",
   "execution_count": 61,
   "id": "e7b360bb",
   "metadata": {},
   "outputs": [],
   "source": [
    "X_train,X_test,y_train,y_test=train_test_split(X_scaled,y,test_size=0.2,random_state=0)"
   ]
  },
  {
   "cell_type": "code",
   "execution_count": 62,
   "id": "84c0291b",
   "metadata": {},
   "outputs": [
    {
     "data": {
      "text/plain": [
       "RandomForestClassifier(random_state=0)"
      ]
     },
     "execution_count": 62,
     "metadata": {},
     "output_type": "execute_result"
    }
   ],
   "source": [
    "model2=RandomForestClassifier(random_state=0) ## initialize model\n",
    "model2.fit(X_train,y_train) ## train model"
   ]
  },
  {
   "cell_type": "code",
   "execution_count": 63,
   "id": "0c8dc830",
   "metadata": {},
   "outputs": [
    {
     "name": "stdout",
     "output_type": "stream",
     "text": [
      "Testing Data Score: 0.8621190130624092\n"
     ]
    }
   ],
   "source": [
    "print(f\"Testing Data Score: {model2.score(X_test, y_test)}\")"
   ]
  },
  {
   "cell_type": "code",
   "execution_count": null,
   "id": "a4c28b99",
   "metadata": {},
   "outputs": [],
   "source": []
  }
 ],
 "metadata": {
  "kernelspec": {
   "display_name": "Python 3 (ipykernel)",
   "language": "python",
   "name": "python3"
  },
  "language_info": {
   "codemirror_mode": {
    "name": "ipython",
    "version": 3
   },
   "file_extension": ".py",
   "mimetype": "text/x-python",
   "name": "python",
   "nbconvert_exporter": "python",
   "pygments_lexer": "ipython3",
   "version": "3.9.7"
  }
 },
 "nbformat": 4,
 "nbformat_minor": 5
}
